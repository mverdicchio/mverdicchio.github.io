{
 "cells": [
  {
   "cell_type": "markdown",
   "metadata": {
    "deletable": true,
    "editable": true
   },
   "source": [
    "# Talks markdown generator for academicpages\n",
    "\n",
    "Takes a TSV of talks with metadata and converts them for use with [academicpages.github.io](academicpages.github.io). This is an interactive Jupyter notebook ([see more info here](http://jupyter-notebook-beginner-guide.readthedocs.io/en/latest/what_is_jupyter.html)). The core python code is also in `talks.py`. Run either from the `markdown_generator` folder after replacing `talks.tsv` with one containing your data.\n",
    "\n",
    "TODO: Make this work with BibTex and other databases, rather than Stuart's non-standard TSV format and citation style."
   ]
  },
  {
   "cell_type": "code",
   "execution_count": 2,
   "metadata": {
    "collapsed": false,
    "deletable": true,
    "editable": true
   },
   "outputs": [],
   "source": [
    "import pandas as pd\n",
    "import os"
   ]
  },
  {
   "cell_type": "markdown",
   "metadata": {},
   "source": [
    "## Data format\n",
    "\n",
    "The TSV needs to have the following columns: title, type, url_slug, venue, date, location, talk_url, description, with a header at the top. Many of these fields can be blank, but the columns must be in the TSV.\n",
    "\n",
    "- Fields that cannot be blank: `title`, `url_slug`, `date`. All else can be blank. `type` defaults to \"Talk\" \n",
    "- `date` must be formatted as YYYY-MM-DD.\n",
    "- `url_slug` will be the descriptive part of the .md file and the permalink URL for the page about the paper. \n",
    "    - The .md file will be `YYYY-MM-DD-[url_slug].md` and the permalink will be `https://[yourdomain]/talks/YYYY-MM-DD-[url_slug]`\n",
    "    - The combination of `url_slug` and `date` must be unique, as it will be the basis for your filenames\n",
    "\n",
    "This is how the raw file looks (it doesn't look pretty, use a spreadsheet or other program to edit and create)."
   ]
  },
  {
   "cell_type": "code",
   "execution_count": 3,
   "metadata": {
    "collapsed": false
   },
   "outputs": [
    {
     "name": "stdout",
     "output_type": "stream",
     "text": [
      "title\ttype\turl_slug\tvenue\tdate\tlocation\ttalk_url\tdescription\n",
      "Adapting program assessment for the age of generative AI\tConference Proceedings\tedunine25\tIEEE Engineering Education World Conference (EDUNINE)\t2025-03-25\tVirtual\t\t\"Virtual presentation of conference paper to Montevideo, Uraguay\"\n",
      "Hurricanes and pandemics: An experience report on adapting software engineering courses to ensure continuity of instruction\tConference Proceedings\tccsc2020\tConsortium for Computing Sciences in Colleges Southeastern Conference\t2021-01-22\tVirtual\t\tVirtual presentation of conference paper (Covid)\n",
      "Embedding cybersecurity in the second programming course (CS2)\tConference Proceedings\tccsc2016\tConsortium for Computing Sciences in Colleges Southeastern Conference\t2016-11-04\tFurman University\t\t\n",
      "Identifying targets for intervention by analyzing basins of attraction\tConference Proceedings\tpsb2011\tPacific Symposium on Biocomputing\t2011-01-05\t\"Waimea, HI\"\t\t\n",
      "Reverse Engineering and Synthesis of Biomolecular Systems\tPeer-Reviewed Abstract\tpsb2011-2\tPacific Symposium on Biocomputing\t2011-01-04\t\"Waimea, HI\"\t\tJoint presentation of session introduction with Prof. Gil Alterovitz\n",
      "The Impact of AI Tools on Assessment Data\tPeer-Reviewed Abstract\tabet2024\tABET Symposium\t2024-04-04\t\"Tampa, FL\"\t\tOral presentation of a peer-reviewed abstract\n",
      "Effective pedagogical practices in the computer science classroom\tPeer-Reviewed Abstract\tccsc2021\tConsortium for Computing Sciences in Colleges Southeastern Conference\t2022-01-28\t\"Greenville, SC\"\t\t\"Panel member with Professors Healy, Digh, and Gabbert\"\n",
      "Boolean Network Models of Human Aging\tPeer-Reviewed Abstract\trocky2009\t7th Annual Rocky Mountains Bioinformatics Conference\t2009-12-12\t\"Snowmass, CO\"\t\tOral presentation of a peer-reviewed abstract\n",
      "Creating a DevOps course\tPoster\tsigcse2022\tACM Technical Symposium on Computer Science Education (SIGCSE)\t2023-03-16\t\"Toronto, Canada\"\t\tPoster presentation of a peer-reviewed abstract\n",
      "Template-Based Intervention in Boolean Network Models of Biological Systems\tPoster\tismb2014\tInternational Conference on Intelligent Systems for Molecular Biology (ISMB)\t2014-07-14\t\"Boston, MA\"\t\tPoster presentation of a peer-reviewed abstract\n",
      "Identifying targets for intervention by analyzing basins of attraction\tPoster\tpsb2011-3\tPacific Symposium on Biocomputing\t2011-01-05\t\"Waimea, HI\"\t\tPoster presentation of a peer-reviewed abstract\n",
      "\"An Interactive Environment for Visualizing, Interpreting, and Revising Biological Process Models\"\tPoster\trecomb2009\tResearch in Computational Molecular Biology (RECOMB)\t2009-05-19\t\"Tucson, AZ\"\t\tPoster presentation of a peer-reviewed abstract\n",
      "Boolean Network Models of Human Aging\tPoster\trocky2009-2\t7th Annual Rocky Mountains Bioinformatics Conference\t2009-12-12\t\"Snowmass, CO\"\t\tPoster presentation of a peer-reviewed abstract\n",
      "\"Learning Causal Relationships between Genes from Steady State Data: Algorithms, Simulation and Application\"\tPoster\trocky2008\t6th Annual Rocky Mountains Bioinformatics Conference\t2008-12-05\t\"Snowmass, CO\"\t\tPoster presentation of a peer-reviewed abstract\n"
     ]
    }
   ],
   "source": [
    "!cat talks.tsv"
   ]
  },
  {
   "cell_type": "markdown",
   "metadata": {},
   "source": [
    "## Import TSV\n",
    "\n",
    "Pandas makes this easy with the read_csv function. We are using a TSV, so we specify the separator as a tab, or `\\t`.\n",
    "\n",
    "I found it important to put this data in a tab-separated values format, because there are a lot of commas in this kind of data and comma-separated values can get messed up. However, you can modify the import statement, as pandas also has read_excel(), read_json(), and others."
   ]
  },
  {
   "cell_type": "code",
   "execution_count": 4,
   "metadata": {
    "collapsed": false,
    "deletable": true,
    "editable": true
   },
   "outputs": [
    {
     "data": {
      "text/html": [
       "<div>\n",
       "<style scoped>\n",
       "    .dataframe tbody tr th:only-of-type {\n",
       "        vertical-align: middle;\n",
       "    }\n",
       "\n",
       "    .dataframe tbody tr th {\n",
       "        vertical-align: top;\n",
       "    }\n",
       "\n",
       "    .dataframe thead th {\n",
       "        text-align: right;\n",
       "    }\n",
       "</style>\n",
       "<table border=\"1\" class=\"dataframe\">\n",
       "  <thead>\n",
       "    <tr style=\"text-align: right;\">\n",
       "      <th></th>\n",
       "      <th>title</th>\n",
       "      <th>type</th>\n",
       "      <th>url_slug</th>\n",
       "      <th>venue</th>\n",
       "      <th>date</th>\n",
       "      <th>location</th>\n",
       "      <th>talk_url</th>\n",
       "      <th>description</th>\n",
       "    </tr>\n",
       "  </thead>\n",
       "  <tbody>\n",
       "    <tr>\n",
       "      <th>0</th>\n",
       "      <td>Adapting program assessment for the age of gen...</td>\n",
       "      <td>Conference Proceedings</td>\n",
       "      <td>edunine25</td>\n",
       "      <td>IEEE Engineering Education World Conference (E...</td>\n",
       "      <td>2025-03-25</td>\n",
       "      <td>Virtual</td>\n",
       "      <td>NaN</td>\n",
       "      <td>Virtual presentation of conference paper to Mo...</td>\n",
       "    </tr>\n",
       "    <tr>\n",
       "      <th>1</th>\n",
       "      <td>Hurricanes and pandemics: An experience report...</td>\n",
       "      <td>Conference Proceedings</td>\n",
       "      <td>ccsc2020</td>\n",
       "      <td>Consortium for Computing Sciences in Colleges ...</td>\n",
       "      <td>2021-01-22</td>\n",
       "      <td>Virtual</td>\n",
       "      <td>NaN</td>\n",
       "      <td>Virtual presentation of conference paper (Covid)</td>\n",
       "    </tr>\n",
       "    <tr>\n",
       "      <th>2</th>\n",
       "      <td>Embedding cybersecurity in the second programm...</td>\n",
       "      <td>Conference Proceedings</td>\n",
       "      <td>ccsc2016</td>\n",
       "      <td>Consortium for Computing Sciences in Colleges ...</td>\n",
       "      <td>2016-11-04</td>\n",
       "      <td>Furman University</td>\n",
       "      <td>NaN</td>\n",
       "      <td>NaN</td>\n",
       "    </tr>\n",
       "    <tr>\n",
       "      <th>3</th>\n",
       "      <td>Identifying targets for intervention by analyz...</td>\n",
       "      <td>Conference Proceedings</td>\n",
       "      <td>psb2011</td>\n",
       "      <td>Pacific Symposium on Biocomputing</td>\n",
       "      <td>2011-01-05</td>\n",
       "      <td>Waimea, HI</td>\n",
       "      <td>NaN</td>\n",
       "      <td>NaN</td>\n",
       "    </tr>\n",
       "    <tr>\n",
       "      <th>4</th>\n",
       "      <td>Reverse Engineering and Synthesis of Biomolecu...</td>\n",
       "      <td>Peer-Reviewed Abstract</td>\n",
       "      <td>psb2011-2</td>\n",
       "      <td>Pacific Symposium on Biocomputing</td>\n",
       "      <td>2011-01-04</td>\n",
       "      <td>Waimea, HI</td>\n",
       "      <td>NaN</td>\n",
       "      <td>Joint presentation of session introduction wit...</td>\n",
       "    </tr>\n",
       "    <tr>\n",
       "      <th>5</th>\n",
       "      <td>The Impact of AI Tools on Assessment Data</td>\n",
       "      <td>Peer-Reviewed Abstract</td>\n",
       "      <td>abet2024</td>\n",
       "      <td>ABET Symposium</td>\n",
       "      <td>2024-04-04</td>\n",
       "      <td>Tampa, FL</td>\n",
       "      <td>NaN</td>\n",
       "      <td>Oral presentation of a peer-reviewed abstract</td>\n",
       "    </tr>\n",
       "    <tr>\n",
       "      <th>6</th>\n",
       "      <td>Effective pedagogical practices in the compute...</td>\n",
       "      <td>Peer-Reviewed Abstract</td>\n",
       "      <td>ccsc2021</td>\n",
       "      <td>Consortium for Computing Sciences in Colleges ...</td>\n",
       "      <td>2022-01-28</td>\n",
       "      <td>Greenville, SC</td>\n",
       "      <td>NaN</td>\n",
       "      <td>Panel member with Professors Healy, Digh, and ...</td>\n",
       "    </tr>\n",
       "    <tr>\n",
       "      <th>7</th>\n",
       "      <td>Boolean Network Models of Human Aging</td>\n",
       "      <td>Peer-Reviewed Abstract</td>\n",
       "      <td>rocky2009</td>\n",
       "      <td>7th Annual Rocky Mountains Bioinformatics Conf...</td>\n",
       "      <td>2009-12-12</td>\n",
       "      <td>Snowmass, CO</td>\n",
       "      <td>NaN</td>\n",
       "      <td>Oral presentation of a peer-reviewed abstract</td>\n",
       "    </tr>\n",
       "    <tr>\n",
       "      <th>8</th>\n",
       "      <td>Creating a DevOps course</td>\n",
       "      <td>Poster</td>\n",
       "      <td>sigcse2022</td>\n",
       "      <td>ACM Technical Symposium on Computer Science Ed...</td>\n",
       "      <td>2023-03-16</td>\n",
       "      <td>Toronto, Canada</td>\n",
       "      <td>NaN</td>\n",
       "      <td>Poster presentation of a peer-reviewed abstract</td>\n",
       "    </tr>\n",
       "    <tr>\n",
       "      <th>9</th>\n",
       "      <td>Template-Based Intervention in Boolean Network...</td>\n",
       "      <td>Poster</td>\n",
       "      <td>ismb2014</td>\n",
       "      <td>International Conference on Intelligent System...</td>\n",
       "      <td>2014-07-14</td>\n",
       "      <td>Boston, MA</td>\n",
       "      <td>NaN</td>\n",
       "      <td>Poster presentation of a peer-reviewed abstract</td>\n",
       "    </tr>\n",
       "    <tr>\n",
       "      <th>10</th>\n",
       "      <td>Identifying targets for intervention by analyz...</td>\n",
       "      <td>Poster</td>\n",
       "      <td>psb2011-3</td>\n",
       "      <td>Pacific Symposium on Biocomputing</td>\n",
       "      <td>2011-01-05</td>\n",
       "      <td>Waimea, HI</td>\n",
       "      <td>NaN</td>\n",
       "      <td>Poster presentation of a peer-reviewed abstract</td>\n",
       "    </tr>\n",
       "    <tr>\n",
       "      <th>11</th>\n",
       "      <td>An Interactive Environment for Visualizing, In...</td>\n",
       "      <td>Poster</td>\n",
       "      <td>recomb2009</td>\n",
       "      <td>Research in Computational Molecular Biology (R...</td>\n",
       "      <td>2009-05-19</td>\n",
       "      <td>Tucson, AZ</td>\n",
       "      <td>NaN</td>\n",
       "      <td>Poster presentation of a peer-reviewed abstract</td>\n",
       "    </tr>\n",
       "    <tr>\n",
       "      <th>12</th>\n",
       "      <td>Boolean Network Models of Human Aging</td>\n",
       "      <td>Poster</td>\n",
       "      <td>rocky2009-2</td>\n",
       "      <td>7th Annual Rocky Mountains Bioinformatics Conf...</td>\n",
       "      <td>2009-12-12</td>\n",
       "      <td>Snowmass, CO</td>\n",
       "      <td>NaN</td>\n",
       "      <td>Poster presentation of a peer-reviewed abstract</td>\n",
       "    </tr>\n",
       "    <tr>\n",
       "      <th>13</th>\n",
       "      <td>Learning Causal Relationships between Genes fr...</td>\n",
       "      <td>Poster</td>\n",
       "      <td>rocky2008</td>\n",
       "      <td>6th Annual Rocky Mountains Bioinformatics Conf...</td>\n",
       "      <td>2008-12-05</td>\n",
       "      <td>Snowmass, CO</td>\n",
       "      <td>NaN</td>\n",
       "      <td>Poster presentation of a peer-reviewed abstract</td>\n",
       "    </tr>\n",
       "  </tbody>\n",
       "</table>\n",
       "</div>"
      ],
      "text/plain": [
       "                                                title                    type  \\\n",
       "0   Adapting program assessment for the age of gen...  Conference Proceedings   \n",
       "1   Hurricanes and pandemics: An experience report...  Conference Proceedings   \n",
       "2   Embedding cybersecurity in the second programm...  Conference Proceedings   \n",
       "3   Identifying targets for intervention by analyz...  Conference Proceedings   \n",
       "4   Reverse Engineering and Synthesis of Biomolecu...  Peer-Reviewed Abstract   \n",
       "5           The Impact of AI Tools on Assessment Data  Peer-Reviewed Abstract   \n",
       "6   Effective pedagogical practices in the compute...  Peer-Reviewed Abstract   \n",
       "7               Boolean Network Models of Human Aging  Peer-Reviewed Abstract   \n",
       "8                            Creating a DevOps course                  Poster   \n",
       "9   Template-Based Intervention in Boolean Network...                  Poster   \n",
       "10  Identifying targets for intervention by analyz...                  Poster   \n",
       "11  An Interactive Environment for Visualizing, In...                  Poster   \n",
       "12              Boolean Network Models of Human Aging                  Poster   \n",
       "13  Learning Causal Relationships between Genes fr...                  Poster   \n",
       "\n",
       "       url_slug                                              venue  \\\n",
       "0     edunine25  IEEE Engineering Education World Conference (E...   \n",
       "1      ccsc2020  Consortium for Computing Sciences in Colleges ...   \n",
       "2      ccsc2016  Consortium for Computing Sciences in Colleges ...   \n",
       "3       psb2011                  Pacific Symposium on Biocomputing   \n",
       "4     psb2011-2                  Pacific Symposium on Biocomputing   \n",
       "5      abet2024                                     ABET Symposium   \n",
       "6      ccsc2021  Consortium for Computing Sciences in Colleges ...   \n",
       "7     rocky2009  7th Annual Rocky Mountains Bioinformatics Conf...   \n",
       "8    sigcse2022  ACM Technical Symposium on Computer Science Ed...   \n",
       "9      ismb2014  International Conference on Intelligent System...   \n",
       "10    psb2011-3                  Pacific Symposium on Biocomputing   \n",
       "11   recomb2009  Research in Computational Molecular Biology (R...   \n",
       "12  rocky2009-2  7th Annual Rocky Mountains Bioinformatics Conf...   \n",
       "13    rocky2008  6th Annual Rocky Mountains Bioinformatics Conf...   \n",
       "\n",
       "          date           location  talk_url  \\\n",
       "0   2025-03-25            Virtual       NaN   \n",
       "1   2021-01-22            Virtual       NaN   \n",
       "2   2016-11-04  Furman University       NaN   \n",
       "3   2011-01-05         Waimea, HI       NaN   \n",
       "4   2011-01-04         Waimea, HI       NaN   \n",
       "5   2024-04-04          Tampa, FL       NaN   \n",
       "6   2022-01-28     Greenville, SC       NaN   \n",
       "7   2009-12-12       Snowmass, CO       NaN   \n",
       "8   2023-03-16    Toronto, Canada       NaN   \n",
       "9   2014-07-14         Boston, MA       NaN   \n",
       "10  2011-01-05         Waimea, HI       NaN   \n",
       "11  2009-05-19         Tucson, AZ       NaN   \n",
       "12  2009-12-12       Snowmass, CO       NaN   \n",
       "13  2008-12-05       Snowmass, CO       NaN   \n",
       "\n",
       "                                          description  \n",
       "0   Virtual presentation of conference paper to Mo...  \n",
       "1    Virtual presentation of conference paper (Covid)  \n",
       "2                                                 NaN  \n",
       "3                                                 NaN  \n",
       "4   Joint presentation of session introduction wit...  \n",
       "5       Oral presentation of a peer-reviewed abstract  \n",
       "6   Panel member with Professors Healy, Digh, and ...  \n",
       "7       Oral presentation of a peer-reviewed abstract  \n",
       "8     Poster presentation of a peer-reviewed abstract  \n",
       "9     Poster presentation of a peer-reviewed abstract  \n",
       "10    Poster presentation of a peer-reviewed abstract  \n",
       "11    Poster presentation of a peer-reviewed abstract  \n",
       "12    Poster presentation of a peer-reviewed abstract  \n",
       "13    Poster presentation of a peer-reviewed abstract  "
      ]
     },
     "execution_count": 4,
     "metadata": {},
     "output_type": "execute_result"
    }
   ],
   "source": [
    "talks = pd.read_csv(\"talks.tsv\", sep=\"\\t\", header=0)\n",
    "talks"
   ]
  },
  {
   "cell_type": "markdown",
   "metadata": {},
   "source": [
    "## Escape special characters\n",
    "\n",
    "YAML is very picky about how it takes a valid string, so we are replacing single and double quotes (and ampersands) with their HTML encoded equivilents. This makes them look not so readable in raw format, but they are parsed and rendered nicely."
   ]
  },
  {
   "cell_type": "code",
   "execution_count": 5,
   "metadata": {
    "collapsed": false,
    "deletable": true,
    "editable": true
   },
   "outputs": [],
   "source": [
    "html_escape_table = {\n",
    "    \"&\": \"&amp;\",\n",
    "    '\"': \"&quot;\",\n",
    "    \"'\": \"&apos;\"\n",
    "    }\n",
    "\n",
    "def html_escape(text):\n",
    "    if type(text) is str:\n",
    "        return \"\".join(html_escape_table.get(c,c) for c in text)\n",
    "    else:\n",
    "        return \"False\""
   ]
  },
  {
   "cell_type": "markdown",
   "metadata": {},
   "source": [
    "## Creating the markdown files\n",
    "\n",
    "This is where the heavy lifting is done. This loops through all the rows in the TSV dataframe, then starts to concatentate a big string (```md```) that contains the markdown for each type. It does the YAML metadata first, then does the description for the individual page."
   ]
  },
  {
   "cell_type": "code",
   "execution_count": 6,
   "metadata": {
    "collapsed": false,
    "deletable": true,
    "editable": true
   },
   "outputs": [],
   "source": [
    "loc_dict = {}\n",
    "\n",
    "for row, item in talks.iterrows():\n",
    "    \n",
    "    md_filename = str(item.date) + \"-\" + item.url_slug + \".md\"\n",
    "    html_filename = str(item.date) + \"-\" + item.url_slug \n",
    "    year = item.date[:4]\n",
    "    \n",
    "    md = \"---\\ntitle: \\\"\"   + item.title + '\"\\n'\n",
    "    md += \"collection: talks\" + \"\\n\"\n",
    "    \n",
    "    if len(str(item.type)) > 3:\n",
    "        md += 'type: \"' + item.type + '\"\\n'\n",
    "    else:\n",
    "        md += 'type: \"Talk\"\\n'\n",
    "    \n",
    "    md += \"permalink: /talks/\" + html_filename + \"\\n\"\n",
    "    \n",
    "    if len(str(item.venue)) > 3:\n",
    "        md += 'venue: \"' + item.venue + '\"\\n'\n",
    "        \n",
    "    if len(str(item.location)) > 3:\n",
    "        md += \"date: \" + str(item.date) + \"\\n\"\n",
    "    \n",
    "    if len(str(item.location)) > 3:\n",
    "        md += 'location: \"' + str(item.location) + '\"\\n'\n",
    "           \n",
    "    md += \"---\\n\"\n",
    "    \n",
    "    \n",
    "    if len(str(item.talk_url)) > 3:\n",
    "        md += \"\\n[More information here](\" + item.talk_url + \")\\n\" \n",
    "        \n",
    "    \n",
    "    if len(str(item.description)) > 3:\n",
    "        md += \"\\n\" + html_escape(item.description) + \"\\n\"\n",
    "        \n",
    "        \n",
    "    md_filename = os.path.basename(md_filename)\n",
    "    #print(md)\n",
    "    \n",
    "    with open(\"../_talks/\" + md_filename, 'w') as f:\n",
    "        f.write(md)"
   ]
  },
  {
   "cell_type": "markdown",
   "metadata": {},
   "source": [
    "These files are in the talks directory, one directory below where we're working from."
   ]
  },
  {
   "cell_type": "code",
   "execution_count": 7,
   "metadata": {
    "collapsed": false,
    "deletable": true,
    "editable": true
   },
   "outputs": [
    {
     "name": "stdout",
     "output_type": "stream",
     "text": [
      "2008-12-05-rocky2008.md    2011-01-05-psb2011.md     2016-11-04-ccsc2016.md\n",
      "2009-05-19-recomb2009.md   2012-03-01-talk-1.md      2021-01-22-ccsc2020.md\n",
      "2009-12-12-rocky2009-2.md  2013-03-01-tutorial-1.md  2022-01-28-ccsc2021.md\n",
      "2009-12-12-rocky2009.md    2014-02-01-talk-2.md      2023-03-16-sigcse2022.md\n",
      "2011-01-04-psb2011-2.md    2014-03-01-talk-3.md      2024-04-04-abet2024.md\n",
      "2011-01-05-psb2011-3.md    2014-07-14-ismb2014.md    2025-03-25-edunine25.md\n"
     ]
    }
   ],
   "source": [
    "!ls ../_talks"
   ]
  },
  {
   "cell_type": "code",
   "execution_count": 9,
   "metadata": {
    "collapsed": false,
    "deletable": true,
    "editable": true
   },
   "outputs": [
    {
     "name": "stdout",
     "output_type": "stream",
     "text": [
      "cat: ../_talks/2013-03-01-tutorial-1.md: No such file or directory\n"
     ]
    }
   ],
   "source": [
    "!cat ../_talks/2013-03-01-tutorial-1.md"
   ]
  }
 ],
 "metadata": {
  "kernelspec": {
   "display_name": "Python 3",
   "language": "python",
   "name": "python3"
  },
  "language_info": {
   "codemirror_mode": {
    "name": "ipython",
    "version": 3
   },
   "file_extension": ".py",
   "mimetype": "text/x-python",
   "name": "python",
   "nbconvert_exporter": "python",
   "pygments_lexer": "ipython3",
   "version": "3.10.12"
  }
 },
 "nbformat": 4,
 "nbformat_minor": 0
}
