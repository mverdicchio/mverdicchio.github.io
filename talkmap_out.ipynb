{
 "cells": [
  {
   "cell_type": "markdown",
   "metadata": {},
   "source": [
    "# Leaflet cluster map of talk locations\n",
    "\n",
    "Assuming you are working in a Linux or Windows Subsystem for Linux environment, you may need to install some dependencies. Assuming a clean installation, the following will be needed:\n",
    "\n",
    "```bash\n",
    "sudo apt install jupyter\n",
    "sudo apt install python3-pip\n",
    "pip install python-frontmatter getorg --upgrade\n",
    "```\n",
    "\n",
    "After which you can run this from the `_talks/` directory, via:\n",
    "\n",
    "```bash\n",
    " jupyter nbconvert --to notebook --execute talkmap.ipynb --output talkmap_out.ipynb\n",
    "```\n",
    " \n",
    "The `_talks/` directory contains `.md` files of all your talks. This scrapes the location YAML field from each `.md` file, geolocates it with `geopy/Nominatim`, and uses the `getorg` library to output data, HTML, and Javascript for a standalone cluster map."
   ]
  },
  {
   "cell_type": "code",
   "execution_count": 2,
   "metadata": {
    "collapsed": false,
    "execution": {
     "iopub.execute_input": "2025-05-16T16:08:16.767210Z",
     "iopub.status.busy": "2025-05-16T16:08:16.766721Z",
     "iopub.status.idle": "2025-05-16T16:08:18.397968Z",
     "shell.execute_reply": "2025-05-16T16:08:18.397244Z"
    }
   },
   "outputs": [
    {
     "name": "stdout",
     "output_type": "stream",
     "text": [
      "Defaulting to user installation because normal site-packages is not writeable\n",
      "Requirement already satisfied: python-frontmatter in /home/verdicchio/.local/lib/python3.10/site-packages (1.1.0)\n",
      "Requirement already satisfied: getorg in /home/verdicchio/.local/lib/python3.10/site-packages (0.3.1)\n",
      "Requirement already satisfied: PyYAML in /usr/lib/python3/dist-packages (from python-frontmatter) (5.4.1)\n",
      "Requirement already satisfied: geopy in /home/verdicchio/.local/lib/python3.10/site-packages (from getorg) (2.4.1)\n",
      "Requirement already satisfied: retrying in /home/verdicchio/.local/lib/python3.10/site-packages (from getorg) (1.3.4)\n",
      "Requirement already satisfied: pygithub in /home/verdicchio/.local/lib/python3.10/site-packages (from getorg) (2.6.1)\n",
      "Requirement already satisfied: geographiclib<3,>=1.52 in /home/verdicchio/.local/lib/python3.10/site-packages (from geopy->getorg) (2.0)\n",
      "Requirement already satisfied: Deprecated in /home/verdicchio/.local/lib/python3.10/site-packages (from pygithub->getorg) (1.2.18)\n",
      "Requirement already satisfied: requests>=2.14.0 in /usr/lib/python3/dist-packages (from pygithub->getorg) (2.25.1)\n",
      "Requirement already satisfied: pyjwt[crypto]>=2.4.0 in /home/verdicchio/.local/lib/python3.10/site-packages (from pygithub->getorg) (2.10.1)\n",
      "Requirement already satisfied: urllib3>=1.26.0 in /usr/lib/python3/dist-packages (from pygithub->getorg) (1.26.5)\n",
      "Requirement already satisfied: typing-extensions>=4.0.0 in /home/verdicchio/.local/lib/python3.10/site-packages (from pygithub->getorg) (4.13.2)\n",
      "Requirement already satisfied: pynacl>=1.4.0 in /home/verdicchio/.local/lib/python3.10/site-packages (from pygithub->getorg) (1.5.0)\n",
      "Requirement already satisfied: six>=1.7.0 in /usr/lib/python3/dist-packages (from retrying->getorg) (1.16.0)\n",
      "Requirement already satisfied: cryptography>=3.4.0 in /usr/lib/python3/dist-packages (from pyjwt[crypto]>=2.4.0->pygithub->getorg) (3.4.8)\n",
      "Requirement already satisfied: cffi>=1.4.1 in /home/verdicchio/.local/lib/python3.10/site-packages (from pynacl>=1.4.0->pygithub->getorg) (1.17.1)\n",
      "Requirement already satisfied: wrapt<2,>=1.10 in /home/verdicchio/.local/lib/python3.10/site-packages (from Deprecated->pygithub->getorg) (1.17.2)\n",
      "Requirement already satisfied: pycparser in /home/verdicchio/.local/lib/python3.10/site-packages (from cffi>=1.4.1->pynacl>=1.4.0->pygithub->getorg) (2.22)\n"
     ]
    }
   ],
   "source": [
    "# Start by installing the dependencies\n",
    "!pip install python-frontmatter getorg --upgrade\n",
    "import frontmatter\n",
    "import glob\n",
    "import getorg\n",
    "from geopy import Nominatim\n",
    "from geopy.exc import GeocoderTimedOut"
   ]
  },
  {
   "cell_type": "code",
   "execution_count": 3,
   "metadata": {
    "collapsed": false,
    "execution": {
     "iopub.execute_input": "2025-05-16T16:08:18.400388Z",
     "iopub.status.busy": "2025-05-16T16:08:18.399942Z",
     "iopub.status.idle": "2025-05-16T16:08:18.403233Z",
     "shell.execute_reply": "2025-05-16T16:08:18.402720Z"
    }
   },
   "outputs": [],
   "source": [
    "# Collect the Markdown files\n",
    "g = glob.glob(\"_talks/*.md\")"
   ]
  },
  {
   "cell_type": "code",
   "execution_count": 4,
   "metadata": {
    "collapsed": true,
    "execution": {
     "iopub.execute_input": "2025-05-16T16:08:18.405285Z",
     "iopub.status.busy": "2025-05-16T16:08:18.404928Z",
     "iopub.status.idle": "2025-05-16T16:08:18.430140Z",
     "shell.execute_reply": "2025-05-16T16:08:18.429444Z"
    }
   },
   "outputs": [],
   "source": [
    "# Set the default timeout, in seconds\n",
    "TIMEOUT = 5\n",
    "\n",
    "# Prepare to geolocate\n",
    "geocoder = Nominatim(user_agent=\"academicpages.github.io\")\n",
    "location_dict = {}\n",
    "location = \"\"\n",
    "permalink = \"\"\n",
    "title = \"\""
   ]
  },
  {
   "cell_type": "markdown",
   "metadata": {},
   "source": [
    "In the event that this times out with an error, double check to make sure that the location is can be properly geolocated."
   ]
  },
  {
   "cell_type": "code",
   "execution_count": 6,
   "metadata": {
    "collapsed": false,
    "execution": {
     "iopub.execute_input": "2025-05-16T16:08:18.432648Z",
     "iopub.status.busy": "2025-05-16T16:08:18.432236Z",
     "iopub.status.idle": "2025-05-16T16:08:27.942232Z",
     "shell.execute_reply": "2025-05-16T16:08:27.941665Z"
    }
   },
   "outputs": [
    {
     "name": "stdout",
     "output_type": "stream",
     "text": [
      "Embedding cybersecurity in the second programming course (CS2)<br />Consortium for Computing Sciences in Colleges Southeastern Conference; Furman University Furman University, 3300, Poinsett Highway, North Village, Travelers Rest, Greenville County, South Carolina, 29613, United States\n",
      "Effective pedagogical practices in the computer science classroom<br />Consortium for Computing Sciences in Colleges Southeastern Conference; Greenville, SC Greenville, Greenville County, South Carolina, United States\n",
      "Identifying targets for intervention by analyzing basins of attraction<br />Pacific Symposium on Biocomputing; Waimea, HI Waimea/Kamuela, Hawaiʻi County, Hawaii, United States\n",
      "Boolean Network Models of Human Aging<br />7th Annual Rocky Mountains Bioinformatics Conference; Snowmass, CO Snowmass, Pitkin County, Colorado, 81654, United States\n",
      "The Impact of AI Tools on Assessment Data<br />ABET Symposium; Tampa, FL Tampa, Hillsborough County, Florida, United States\n",
      "Boolean Network Models of Human Aging<br />7th Annual Rocky Mountains Bioinformatics Conference; Snowmass, CO Snowmass, Pitkin County, Colorado, 81654, United States\n",
      "Creating a DevOps course<br />ACM Technical Symposium on Computer Science Education (SIGCSE); Toronto, Canada Toronto, Golden Horseshoe, Ontario, Canada\n",
      "Reverse Engineering and Synthesis of Biomolecular Systems<br />Pacific Symposium on Biocomputing; Waimea, HI Waimea/Kamuela, Hawaiʻi County, Hawaii, United States\n",
      "Learning Causal Relationships between Genes from Steady State Data: Algorithms, Simulation and Application<br />6th Annual Rocky Mountains Bioinformatics Conference; Snowmass, CO Snowmass, Pitkin County, Colorado, 81654, United States\n",
      "An Interactive Environment for Visualizing, Interpreting, and Revising Biological Process Models<br />Research in Computational Molecular Biology (RECOMB); Tucson, AZ Tucson, Pima County, Arizona, United States\n",
      "Identifying targets for intervention by analyzing basins of attraction<br />Pacific Symposium on Biocomputing; Waimea, HI Waimea/Kamuela, Hawaiʻi County, Hawaii, United States\n",
      "Template-Based Intervention in Boolean Network Models of Biological Systems<br />International Conference on Intelligent Systems for Molecular Biology (ISMB); Boston, MA Boston, Suffolk County, Massachusetts, United States\n"
     ]
    }
   ],
   "source": [
    "# Perform geolocation\n",
    "for file in g:\n",
    "    # Read the file\n",
    "    data = frontmatter.load(file)\n",
    "    data = data.to_dict()\n",
    "\n",
    "    # Press on if the location is not present\n",
    "    if 'location' not in data:\n",
    "        continue\n",
    "\n",
    "    # Prepare the description\n",
    "    title = data['title'].strip()\n",
    "    venue = data['venue'].strip()\n",
    "    location = data['location'].strip()\n",
    "    description = f\"{title}<br />{venue}; {location}\"\n",
    "\n",
    "    # Geocode the location and report the status\n",
    "    try:\n",
    "        location_dict[description] = geocoder.geocode(location, timeout=TIMEOUT)\n",
    "        print(description, location_dict[description])\n",
    "    except ValueError as ex:\n",
    "        print(f\"Error: geocode failed on input {location} with message {ex}\")\n",
    "    except GeocoderTimedOut as ex:\n",
    "        print(f\"Error: geocode timed out on input {location} with message {ex}\")\n",
    "    except Exception as ex:\n",
    "        print(f\"An unhandled exception occurred while processing input {location} with message {ex}\")"
   ]
  },
  {
   "cell_type": "code",
   "execution_count": 7,
   "metadata": {
    "collapsed": false,
    "execution": {
     "iopub.execute_input": "2025-05-16T16:08:27.944460Z",
     "iopub.status.busy": "2025-05-16T16:08:27.944090Z",
     "iopub.status.idle": "2025-05-16T16:08:27.951940Z",
     "shell.execute_reply": "2025-05-16T16:08:27.951337Z"
    }
   },
   "outputs": [
    {
     "data": {
      "text/plain": [
       "'Written map to talkmap/'"
      ]
     },
     "execution_count": 7,
     "metadata": {},
     "output_type": "execute_result"
    }
   ],
   "source": [
    "# Save the map\n",
    "m = getorg.orgmap.create_map_obj()\n",
    "getorg.orgmap.output_html_cluster_map(location_dict, folder_name=\"talkmap\", hashed_usernames=False)"
   ]
  },
  {
   "cell_type": "code",
   "execution_count": null,
   "metadata": {
    "collapsed": true
   },
   "outputs": [],
   "source": []
  }
 ],
 "metadata": {
  "anaconda-cloud": {},
  "kernelspec": {
   "display_name": "Python 3",
   "language": "python",
   "name": "python3"
  },
  "language_info": {
   "codemirror_mode": {
    "name": "ipython",
    "version": 3
   },
   "file_extension": ".py",
   "mimetype": "text/x-python",
   "name": "python",
   "nbconvert_exporter": "python",
   "pygments_lexer": "ipython3",
   "version": "3.10.12"
  }
 },
 "nbformat": 4,
 "nbformat_minor": 0
}
